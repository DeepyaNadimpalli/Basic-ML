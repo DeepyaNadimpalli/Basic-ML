{
  "nbformat": 4,
  "nbformat_minor": 0,
  "metadata": {
    "colab": {
      "name": "BASIC ML.ipynb",
      "provenance": [],
      "authorship_tag": "ABX9TyORUSLWv0SbV/UY9IJz5afp",
      "include_colab_link": true
    },
    "kernelspec": {
      "name": "python3",
      "display_name": "Python 3"
    },
    "language_info": {
      "name": "python"
    }
  },
  "cells": [
    {
      "cell_type": "markdown",
      "metadata": {
        "id": "view-in-github",
        "colab_type": "text"
      },
      "source": [
        "<a href=\"https://colab.research.google.com/github/DeepyaNadimpalli/Basic-ML/blob/main/BASIC_ML.ipynb\" target=\"_parent\"><img src=\"https://colab.research.google.com/assets/colab-badge.svg\" alt=\"Open In Colab\"/></a>"
      ]
    },
    {
      "cell_type": "markdown",
      "metadata": {
        "id": "uJSPETkE6ooC"
      },
      "source": [
        "#Basic ML"
      ]
    },
    {
      "cell_type": "markdown",
      "metadata": {
        "id": "Pks88_tRCfyc"
      },
      "source": [
        "*printing hello world*"
      ]
    },
    {
      "cell_type": "code",
      "metadata": {
        "id": "FMioYg6D6vsk"
      },
      "source": [
        "print(\"Hello World\")"
      ],
      "execution_count": null,
      "outputs": []
    },
    {
      "cell_type": "markdown",
      "metadata": {
        "id": "a_F40mvWCHVE"
      },
      "source": [
        "*printing left justified patterns*"
      ]
    },
    {
      "cell_type": "code",
      "metadata": {
        "id": "X02dZvwD8VR-"
      },
      "source": [
        "rows=int(input())\n",
        "for i in range(1,rows+1): #Iterating through each row\n",
        "  for j in range(1,i+1): #Printing numbers in each row\n",
        "    print(j,end=\" \")\n",
        "  print() #Printing new line"
      ],
      "execution_count": null,
      "outputs": []
    },
    {
      "cell_type": "markdown",
      "metadata": {
        "id": "XkL2Zzl9Cz5d"
      },
      "source": [
        "*printing the sum of the numbers until -1 is entered*"
      ]
    },
    {
      "cell_type": "code",
      "metadata": {
        "id": "a8e6ZaXZ8zxf"
      },
      "source": [
        "sum=0                  # Intialising sum\n",
        "num=int(input())       # Receiving input\n",
        "while num!=-1:         # Checking if the number is -1 or not\n",
        "    sum+=num           # adding the number to sum\n",
        "    num=int(input())   # taking input until number is -1\n",
        "print(sum)"
      ],
      "execution_count": null,
      "outputs": []
    },
    {
      "cell_type": "markdown",
      "metadata": {
        "id": "yRyc442nC_Iw"
      },
      "source": [
        "*Checking whether leap year or not*"
      ]
    },
    {
      "cell_type": "code",
      "metadata": {
        "id": "X3TyLOBJA4ng"
      },
      "source": [
        "Year=int(input())\n",
        "if ((Year%4==0)  and  (Year%100!=0)) or(Year%400==0):  # checking the conditons for leap year \n",
        "    print('LEAP') \n",
        "else:\n",
        "    print('COMMON')"
      ],
      "execution_count": null,
      "outputs": []
    },
    {
      "cell_type": "markdown",
      "metadata": {
        "id": "WqPIJhP4DJT0"
      },
      "source": [
        "*factorial of a number*"
      ]
    },
    {
      "cell_type": "code",
      "metadata": {
        "id": "4T2mprvfBZHw"
      },
      "source": [
        "num=int(input())  # Receiving input \n",
        "fact=1            # Intialising fact\n",
        "while num>1:      # Checking whether number is greater than 1 or not\n",
        "  fact*=num       # Multiplying number to fact\n",
        "  num=num-1       # Decrementing number by 1\n",
        "print(fact)       # printing fact after coming out of the loop"
      ],
      "execution_count": null,
      "outputs": []
    }
  ]
}